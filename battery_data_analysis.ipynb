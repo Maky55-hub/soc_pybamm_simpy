{
 "cells": [
  {
   "cell_type": "code",
   "execution_count": 1,
   "id": "0257a87f",
   "metadata": {},
   "outputs": [],
   "source": [
    "####################Implementing the Kalman Filter Method####################################\n",
    "import pybamm\n",
    "import numpy as np\n",
    "import matplotlib.pyplot as plt\n",
    "\n",
    "pybamm.set_logging_level('INFO')"
   ]
  },
  {
   "cell_type": "code",
   "execution_count": 28,
   "id": "108c450b",
   "metadata": {},
   "outputs": [],
   "source": [
    "# Reverses the order of a list\n",
    "# input: any list\n",
    "# returns: the reversed-order list\n",
    "def flipList(inputList):\n",
    "    flippedList = list()\n",
    "    for i in range(len(inputList)):\n",
    "        flippedList.append(inputList[len(inputList) - i - 1])\n",
    "    return flippedList\n",
    "\n",
    "\n",
    "# Combines two lists to form a np.array\n",
    "# inputs: two lists of x and y values\n",
    "# returns: the np.array of the x and y values\n",
    "def createArray(listX, listY):\n",
    "    newList = list()\n",
    "    for i in range(len(listX)):\n",
    "        newList.append([listX[i], listY[i]])\n",
    "    return np.array(newList)\n",
    "\n",
    "\n",
    "# Creates a list of the modeled nth order polynomial fit values\n",
    "# input: order n of the polynomial fit, list of experimental x values, list of experimental y values\n",
    "# returns: a list of the modeled y-values using the polynomial fit\n",
    "def getPolyFitValues(order, xList, yList):\n",
    "    coefficients = np.polyfit(xList, yList, order)\n",
    "    modeledValues = list()\n",
    "    for x in xList:\n",
    "        yVal = 0\n",
    "        i = 0\n",
    "        while order - i >= 0:\n",
    "            yVal += coefficients[i] * x ** (order - i)\n",
    "            i += 1\n",
    "        modeledValues.append(yVal)\n",
    "    return modeledValues\n",
    "\n",
    "\n",
    "# Finds the chi-square value for experimental and modeled values\n",
    "# inputs: list of experimental x-values, list of experimental y-values, list of modeled y-values\n",
    "# returns: the chi-squared value\n",
    "def getChiSquaredValue(experimentalValues, modeledValues):\n",
    "    # Calculate the chi-squared value\n",
    "    totalChiSquared = 0\n",
    "    for i in range(len(experimentalValues)):\n",
    "        expectedValue = modeledValues[i]\n",
    "        observedValue = experimentalValues[i]\n",
    "        if expectedValue != 0:\n",
    "            totalChiSquared += abs(((observedValue - expectedValue)**2) / expectedValue)\n",
    "        elif abs(observedValue - expectedValue) <= 0.000001:\n",
    "            totalChiSquared += 0\n",
    "        else:\n",
    "            totalChiSquared += (observedValue + expectedValue)**2\n",
    "    return totalChiSquared\n",
    "\n",
    "\n",
    "# Finds the optimal order n of a polynomial fit using minimum chi-square analysis\n",
    "# inputs: a list of experimental x values (OCV measurements) and list of experimental y values (normalized SoC)\n",
    "# returns: a list object of [order n, chi-squared value of the nth order fit], where n is the optimal order fit\n",
    "def findOptimalOrderFit(xValues, yValues):\n",
    "    # Only checks order n=1:8 to minimize compute time\n",
    "    n = 1\n",
    "    chiSquaredResults = list()\n",
    "    while n <= 8:\n",
    "        currentChiSquared = getChiSquaredValue(yValues, getPolyFitValues(n, xValues, yValues))\n",
    "        chiSquaredResults.append([n, currentChiSquared])\n",
    "        n += 1\n",
    "    # find the minimum order n\n",
    "    minIndex = 0\n",
    "    minChiSquared = 1000000000.0\n",
    "    for i in range(len(chiSquaredResults)):\n",
    "        if chiSquaredResults[i][1] < minChiSquared:\n",
    "            minChiSquared = chiSquaredResults[i][1]\n",
    "            minIndex = i\n",
    "    # the returned object is of the form [order n, chi-squared value]\n",
    "    return chiSquaredResults[minIndex]\n",
    "\n",
    "\n",
    "# Prints the optimal order n, chi-squared value of the fit, and coefficients of the polynomial fit\n",
    "# inputs: the chiSquaredResults output of findOptimalOrderFit(), a list of experimental x values (OCV measurements),\n",
    "#         and list of experimental y values (normalized SoC)\n",
    "# returns: none\n",
    "def printFittingResults(chiSquaredResults, xValues, yValues):\n",
    "    # prints the optimal order n\n",
    "    print(\"Optimal Order Fit:\", chiSquaredResults[0])\n",
    "    # prints the chi-squared value of the fit\n",
    "    print(\"Chi-Squared Value:\", chiSquaredResults[1])\n",
    "    # prints the coefficients of the optimal fit\n",
    "    print(\"Coefficients:\")\n",
    "    coefficientList = np.polyfit(xValues, yValues, chiSquaredResults[0])\n",
    "    order = chiSquaredResults[0]\n",
    "    for i in range(len(coefficientList)):\n",
    "        print(\"\\tx^\" + str(order - i) +\":\", coefficientList[i])"
   ]
  },
  {
   "cell_type": "code",
   "execution_count": 4,
   "id": "a44cd7bf",
   "metadata": {},
   "outputs": [],
   "source": [
    "model = pybamm.lithium_ion.DFN()\n",
    "parameter_values = pybamm.ParameterValues('Chen2020')\n",
    "experiment = pybamm.Experiment([(\n",
    "    'Discharge at 0.2 C until 2.5 V',\n",
    "    'Rest for 4 hours',\n",
    "    'Charge at 0.2 C until 4.2 V',\n",
    "    'Discharge at C/20 until 2.5 V'\n",
    ")])\n",
    "\n",
    "simulation = pybamm.Simulation(model=model, experiment=experiment, parameter_values=parameter_values)\n",
    "sol = simulation.solve()"
   ]
  },
  {
   "cell_type": "code",
   "execution_count": 21,
   "id": "2c9124ea",
   "metadata": {},
   "outputs": [
    {
     "data": {
      "application/vnd.jupyter.widget-view+json": {
       "model_id": "860a6d0e48b44bd983b6930a193cd312",
       "version_major": 2,
       "version_minor": 0
      },
      "text/plain": [
       "interactive(children=(FloatSlider(value=0.0, description='t', max=33.395267655617594, step=0.33395267655617594…"
      ]
     },
     "metadata": {},
     "output_type": "display_data"
    },
    {
     "data": {
      "text/plain": [
       "<pybamm.plotting.quick_plot.QuickPlot at 0x1f90e9bc6a0>"
      ]
     },
     "execution_count": 21,
     "metadata": {},
     "output_type": "execute_result"
    }
   ],
   "source": [
    "sol.plot(['Terminal voltage [V]', 'Current [A]', 'Measured open circuit voltage [V]', 'Negative electrode capacity [A.h]', 'Discharge capacity [A.h]'])"
   ]
  },
  {
   "cell_type": "code",
   "execution_count": 26,
   "id": "e01e0f5e",
   "metadata": {},
   "outputs": [
    {
     "data": {
      "image/png": "[encoded data removed]",
      "text/plain": [
       "<Figure size 432x288 with 1 Axes>"
      ]
     },
     "metadata": {
      "needs_background": "light"
     },
     "output_type": "display_data"
    }
   ],
   "source": [
    "discharge_step = sol.cycles[0].steps[3]\n",
    "\n",
    "measurements_adjusted = discharge_step['Discharge capacity [A.h]'].entries\n",
    "voltage_reading_final = flipList(discharge_step['Measured open circuit voltage [V]'].entries)\n",
    "\n",
    "num_measurements = len(measurements_adjusted)\n",
    "increment = 100.0/num_measurements\n",
    "normalized_SoC = list()\n",
    "tempI = 0\n",
    "while tempI < num_measurements:\n",
    "    normalized_SoC.append(tempI*increment)\n",
    "    tempI += 1\n",
    "\n",
    "\n",
    "# Finds the optimal order n of a polynomial fit of the data using minimum chi-square analysis\n",
    "optimal_fit_values = findOptimalOrderFit(voltage_reading_final, normalized_SoC)\n",
    "optimal_order = optimal_fit_values[0]\n",
    "\n",
    "# Creates a list of modeled SoC values using the optimal polynomial fit, used for plotting\n",
    "modeled_values = getPolyFitValues(optimal_order, voltage_reading_final, normalized_SoC)\n",
    "\n",
    "\n",
    "plt.plot(voltage_reading_final, normalized_SoC, label='Experimental Data')\n",
    "# Plots the modeled values using the polynomial fit for SoC vs OCV\n",
    "plt.plot(voltage_reading_final, modeled_values, label='Polynomial Fit')\n",
    "plt.legend(loc='best')\n",
    "plt.ylabel('State of Charge (%)')\n",
    "plt.xlabel('Cell Voltage (V)')\n",
    "plt.title(\"Battery State of Charge (SoC) vs\\nOpen Circuit Voltage (OCV)\", fontweight='bold')\n",
    "plt.grid(True)\n",
    "# Adjust spacing of subplots\n",
    "plt.subplots_adjust(wspace=0.35)\n",
    "plt.show()"
   ]
  },
  {
   "cell_type": "code",
   "execution_count": 29,
   "id": "78a50ba2",
   "metadata": {},
   "outputs": [
    {
     "name": "stdout",
     "output_type": "stream",
     "text": [
      "\n",
      "FITTING RESULTS\n",
      "---------------\n",
      "Optimal Order Fit: 7\n",
      "Chi-Squared Value: 21.825432773648448\n",
      "Coefficients:\n",
      "\tx^7: 422.51894897471726\n",
      "\tx^6: -9631.94102236754\n",
      "\tx^5: 93588.93732780911\n",
      "\tx^4: -502456.5791206263\n",
      "\tx^3: 1609875.5471661598\n",
      "\tx^2: -3078556.0335139297\n",
      "\tx^1: 3253758.04613077\n",
      "\tx^0: -1466398.3052811315\n"
     ]
    }
   ],
   "source": [
    "print(\"\\nFITTING RESULTS\")\n",
    "print(\"---------------\")\n",
    "printFittingResults(optimal_fit_values, voltage_reading_final, normalized_SoC)"
   ]
  },
  {
   "cell_type": "code",
   "execution_count": null,
   "id": "adc83b1d",
   "metadata": {},
   "outputs": [],
   "source": []
  }
 ],
 "metadata": {
  "kernelspec": {
   "display_name": "Python 3 (ipykernel)",
   "language": "python",
   "name": "python3"
  },
  "language_info": {
   "codemirror_mode": {
    "name": "ipython",
    "version": 3
   },
   "file_extension": ".py",
   "mimetype": "text/x-python",
   "name": "python",
   "nbconvert_exporter": "python",
   "pygments_lexer": "ipython3",
   "version": "3.9.6"
  }
 },
 "nbformat": 4,
 "nbformat_minor": 5
}
