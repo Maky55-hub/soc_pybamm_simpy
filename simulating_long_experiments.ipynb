{
 "cells": [
  {
   "cell_type": "code",
   "execution_count": 20,
   "id": "95bea7fb",
   "metadata": {},
   "outputs": [],
   "source": [
    "import pybamm\n",
    "import matplotlib.pyplot as plt\n",
    "import numpy as np\n",
    "\n",
    "pybamm.set_logging_level('NOTICE')"
   ]
  },
  {
   "cell_type": "code",
   "execution_count": 21,
   "id": "c2b8da55",
   "metadata": {},
   "outputs": [],
   "source": [
    "model = pybamm.lithium_ion.SPMe()"
   ]
  },
  {
   "cell_type": "code",
   "execution_count": 23,
   "id": "b84029d0",
   "metadata": {},
   "outputs": [
    {
     "name": "stderr",
     "output_type": "stream",
     "text": [
      "2022-05-11 17:21:40,687 - [NOTICE] simulation.solve(755): Cycle 1/1 (26.678 ms elapsed) --------------------\n",
      "2022-05-11 17:21:40,688 - [NOTICE] simulation.solve(789): Cycle 1/1, step 1/1: Discharge at 0.0500C until 3.2V\n",
      "2022-05-11 17:21:41,184 - [NOTICE] simulation.solve(911): Finish experiment simulation, took 523.676 ms\n",
      "2022-05-11 17:21:41,683 - [NOTICE] simulation.solve(755): Cycle 1/1 (29.613 ms elapsed) --------------------\n",
      "2022-05-11 17:21:41,684 - [NOTICE] simulation.solve(789): Cycle 1/1, step 1/1: Discharge at 0.3105C until 3.2V\n",
      "2022-05-11 17:21:42,005 - [NOTICE] simulation.solve(911): Finish experiment simulation, took 351.374 ms\n",
      "2022-05-11 17:21:42,442 - [NOTICE] simulation.solve(755): Cycle 1/1 (26.826 ms elapsed) --------------------\n",
      "2022-05-11 17:21:42,443 - [NOTICE] simulation.solve(789): Cycle 1/1, step 1/1: Discharge at 0.5711C until 3.2V\n",
      "2022-05-11 17:21:42,673 - [NOTICE] simulation.solve(911): Finish experiment simulation, took 257.516 ms\n",
      "2022-05-11 17:21:43,117 - [NOTICE] simulation.solve(755): Cycle 1/1 (28.424 ms elapsed) --------------------\n",
      "2022-05-11 17:21:43,118 - [NOTICE] simulation.solve(789): Cycle 1/1, step 1/1: Discharge at 0.8316C until 3.2V\n",
      "2022-05-11 17:21:43,339 - [NOTICE] simulation.solve(911): Finish experiment simulation, took 250.752 ms\n",
      "2022-05-11 17:21:43,765 - [NOTICE] simulation.solve(755): Cycle 1/1 (26.955 ms elapsed) --------------------\n",
      "2022-05-11 17:21:43,766 - [NOTICE] simulation.solve(789): Cycle 1/1, step 1/1: Discharge at 1.0921C until 3.2V\n",
      "2022-05-11 17:21:43,974 - [NOTICE] simulation.solve(911): Finish experiment simulation, took 234.761 ms\n",
      "2022-05-11 17:21:44,410 - [NOTICE] simulation.solve(755): Cycle 1/1 (30.468 ms elapsed) --------------------\n",
      "2022-05-11 17:21:44,410 - [NOTICE] simulation.solve(789): Cycle 1/1, step 1/1: Discharge at 1.3526C until 3.2V\n",
      "2022-05-11 17:21:44,613 - [NOTICE] simulation.solve(911): Finish experiment simulation, took 233.645 ms\n",
      "2022-05-11 17:21:45,051 - [NOTICE] simulation.solve(755): Cycle 1/1 (26.728 ms elapsed) --------------------\n",
      "2022-05-11 17:21:45,052 - [NOTICE] simulation.solve(789): Cycle 1/1, step 1/1: Discharge at 1.6132C until 3.2V\n",
      "2022-05-11 17:21:45,246 - [NOTICE] simulation.solve(911): Finish experiment simulation, took 221.867 ms\n",
      "2022-05-11 17:21:45,682 - [NOTICE] simulation.solve(755): Cycle 1/1 (27.684 ms elapsed) --------------------\n",
      "2022-05-11 17:21:45,682 - [NOTICE] simulation.solve(789): Cycle 1/1, step 1/1: Discharge at 1.8737C until 3.2V\n",
      "2022-05-11 17:21:45,876 - [NOTICE] simulation.solve(911): Finish experiment simulation, took 223.125 ms\n",
      "2022-05-11 17:21:46,522 - [NOTICE] simulation.solve(755): Cycle 1/1 (26.944 ms elapsed) --------------------\n",
      "2022-05-11 17:21:46,523 - [NOTICE] simulation.solve(789): Cycle 1/1, step 1/1: Discharge at 2.1342C until 3.2V\n",
      "2022-05-11 17:21:46,719 - [NOTICE] simulation.solve(911): Finish experiment simulation, took 223.284 ms\n",
      "2022-05-11 17:21:47,192 - [NOTICE] simulation.solve(755): Cycle 1/1 (26.512 ms elapsed) --------------------\n",
      "2022-05-11 17:21:47,192 - [NOTICE] simulation.solve(789): Cycle 1/1, step 1/1: Discharge at 2.3947C until 3.2V\n",
      "2022-05-11 17:21:47,393 - [NOTICE] simulation.solve(911): Finish experiment simulation, took 227.785 ms\n",
      "2022-05-11 17:21:47,875 - [NOTICE] simulation.solve(755): Cycle 1/1 (28.528 ms elapsed) --------------------\n",
      "2022-05-11 17:21:47,875 - [NOTICE] simulation.solve(789): Cycle 1/1, step 1/1: Discharge at 2.6553C until 3.2V\n",
      "2022-05-11 17:21:48,076 - [NOTICE] simulation.solve(911): Finish experiment simulation, took 230.309 ms\n",
      "2022-05-11 17:21:48,601 - [NOTICE] simulation.solve(755): Cycle 1/1 (31.531 ms elapsed) --------------------\n",
      "2022-05-11 17:21:48,602 - [NOTICE] simulation.solve(789): Cycle 1/1, step 1/1: Discharge at 2.9158C until 3.2V\n",
      "2022-05-11 17:21:48,820 - [NOTICE] simulation.solve(911): Finish experiment simulation, took 250.328 ms\n",
      "2022-05-11 17:21:49,271 - [NOTICE] simulation.solve(755): Cycle 1/1 (25.584 ms elapsed) --------------------\n",
      "2022-05-11 17:21:49,272 - [NOTICE] simulation.solve(789): Cycle 1/1, step 1/1: Discharge at 3.1763C until 3.2V\n",
      "2022-05-11 17:21:49,469 - [NOTICE] simulation.solve(911): Finish experiment simulation, took 224.114 ms\n",
      "2022-05-11 17:21:49,944 - [NOTICE] simulation.solve(755): Cycle 1/1 (27.600 ms elapsed) --------------------\n",
      "2022-05-11 17:21:49,944 - [NOTICE] simulation.solve(789): Cycle 1/1, step 1/1: Discharge at 3.4368C until 3.2V\n",
      "2022-05-11 17:21:50,142 - [NOTICE] simulation.solve(911): Finish experiment simulation, took 225.495 ms\n",
      "2022-05-11 17:21:50,588 - [NOTICE] simulation.solve(755): Cycle 1/1 (28.439 ms elapsed) --------------------\n",
      "2022-05-11 17:21:50,589 - [NOTICE] simulation.solve(789): Cycle 1/1, step 1/1: Discharge at 3.6974C until 3.2V\n",
      "2022-05-11 17:21:50,793 - [NOTICE] simulation.solve(911): Finish experiment simulation, took 233.896 ms\n",
      "2022-05-11 17:21:51,306 - [NOTICE] simulation.solve(755): Cycle 1/1 (29.055 ms elapsed) --------------------\n",
      "2022-05-11 17:21:51,307 - [NOTICE] simulation.solve(789): Cycle 1/1, step 1/1: Discharge at 3.9579C until 3.2V\n",
      "2022-05-11 17:21:51,500 - [NOTICE] simulation.solve(911): Finish experiment simulation, took 223.822 ms\n",
      "2022-05-11 17:21:51,970 - [NOTICE] simulation.solve(755): Cycle 1/1 (31.846 ms elapsed) --------------------\n",
      "2022-05-11 17:21:51,971 - [NOTICE] simulation.solve(789): Cycle 1/1, step 1/1: Discharge at 4.2184C until 3.2V\n",
      "2022-05-11 17:21:52,166 - [NOTICE] simulation.solve(911): Finish experiment simulation, took 227.633 ms\n",
      "2022-05-11 17:21:52,624 - [NOTICE] simulation.solve(755): Cycle 1/1 (25.933 ms elapsed) --------------------\n",
      "2022-05-11 17:21:52,624 - [NOTICE] simulation.solve(789): Cycle 1/1, step 1/1: Discharge at 4.4789C until 3.2V\n",
      "2022-05-11 17:21:52,827 - [NOTICE] simulation.solve(911): Finish experiment simulation, took 229.491 ms\n",
      "2022-05-11 17:21:53,356 - [NOTICE] simulation.solve(755): Cycle 1/1 (36.407 ms elapsed) --------------------\n",
      "2022-05-11 17:21:53,356 - [NOTICE] simulation.solve(789): Cycle 1/1, step 1/1: Discharge at 4.7395C until 3.2V\n",
      "2022-05-11 17:21:53,553 - [NOTICE] simulation.solve(911): Finish experiment simulation, took 233.878 ms\n",
      "2022-05-11 17:21:54,008 - [NOTICE] simulation.solve(755): Cycle 1/1 (28.742 ms elapsed) --------------------\n",
      "2022-05-11 17:21:54,009 - [NOTICE] simulation.solve(789): Cycle 1/1, step 1/1: Discharge at 5.0000C until 3.2V\n",
      "2022-05-11 17:21:54,189 - [NOTICE] simulation.solve(911): Finish experiment simulation, took 209.092 ms\n",
      "2022-05-11 17:21:54,270 - [WARNING] legend._parse_legend_args(1217): No artists with labels found to put in legend.  Note that artists whose label start with an underscore are ignored when legend() is called with no argument.\n",
      "2022-05-11 17:21:54,288 - [WARNING] legend._parse_legend_args(1217): No artists with labels found to put in legend.  Note that artists whose label start with an underscore are ignored when legend() is called with no argument.\n"
     ]
    },
    {
     "data": {
      "image/png": "[encoded data removed]",
      "text/plain": [
       "<Figure size 432x288 with 1 Axes>"
      ]
     },
     "metadata": {
      "needs_background": "light"
     },
     "output_type": "display_data"
    },
    {
     "data": {
      "image/png": "[encoded data removed]",
      "text/plain": [
       "<Figure size 432x288 with 1 Axes>"
      ]
     },
     "metadata": {
      "needs_background": "light"
     },
     "output_type": "display_data"
    }
   ],
   "source": [
    "C_rates = np.linspace(0.05, 5, 20)\n",
    "capacities = np.zeros_like(C_rates)\n",
    "currents = np.zeros_like(C_rates)\n",
    "voltage_av = np.zeros_like(C_rates)\n",
    "\n",
    "for i, C_rate in enumerate(C_rates):\n",
    "    experiment = pybamm.Experiment(\n",
    "        [\"Discharge at {:.4f}C until 3.2V\".format(C_rate)],\n",
    "        period=\"{:.4f} seconds\".format(10 / C_rate)\n",
    "    )\n",
    "    sim = pybamm.Simulation(\n",
    "        model,\n",
    "        experiment=experiment,\n",
    "        solver=pybamm.CasadiSolver(dt_max=120)\n",
    "    )\n",
    "    sim.solve()\n",
    "\n",
    "    time = sim.solution[\"Time [s]\"].entries\n",
    "    capacity = sim.solution[\"Discharge capacity [A.h]\"]\n",
    "    current = sim.solution[\"Current [A]\"]\n",
    "    voltage = sim.solution[\"Terminal voltage [V]\"]\n",
    "\n",
    "    capacities[i] = capacity(time[-1])\n",
    "    currents[i] = current(time[-1])\n",
    "    voltage_av[i] = np.mean(voltage(time))"
   ]
  },
  {
   "cell_type": "code",
   "execution_count": 33,
   "id": "1dd5d3b9",
   "metadata": {},
   "outputs": [
    {
     "name": "stderr",
     "output_type": "stream",
     "text": [
      "2022-05-11 17:33:53,095 - [WARNING] legend._parse_legend_args(1217): No artists with labels found to put in legend.  Note that artists whose label start with an underscore are ignored when legend() is called with no argument.\n",
      "2022-05-11 17:33:53,234 - [WARNING] legend._parse_legend_args(1217): No artists with labels found to put in legend.  Note that artists whose label start with an underscore are ignored when legend() is called with no argument.\n"
     ]
    },
    {
     "data": {
      "image/png": "[encoded data removed]",
      "text/plain": [
       "<Figure size 432x288 with 1 Axes>"
      ]
     },
     "metadata": {
      "needs_background": "light"
     },
     "output_type": "display_data"
    },
    {
     "data": {
      "image/png": "[encoded data removed]",
      "text/plain": [
       "<Figure size 432x288 with 1 Axes>"
      ]
     },
     "metadata": {
      "needs_background": "light"
     },
     "output_type": "display_data"
    }
   ],
   "source": [
    "plt.figure(1)\n",
    "plt.scatter(C_rates, capacities, color='tab:blue')\n",
    "plt.xlabel('C-rate')\n",
    "plt.ylabel('Capacity [Ah]')\n",
    "plt.legend()\n",
    "plt.grid()\n",
    "plt.savefig('rate_capability_plot.png', bbox_inches='tight', dpi=150)\n",
    "\n",
    "plt.figure(2)\n",
    "plt.scatter(currents * voltage_av, capacities * voltage_av, color='tab:orange')\n",
    "plt.xlabel('Power [W]')\n",
    "plt.ylabel('Energy [Wh]')\n",
    "plt.legend()\n",
    "plt.grid()\n",
    "plt.savefig('ragon_plot.png', bbox_inches='tight', dpi=150)\n",
    "\n",
    "plt.show()"
   ]
  },
  {
   "cell_type": "code",
   "execution_count": null,
   "id": "fdfe6dd5",
   "metadata": {},
   "outputs": [],
   "source": []
  }
 ],
 "metadata": {
  "kernelspec": {
   "display_name": "Python 3 (ipykernel)",
   "language": "python",
   "name": "python3"
  },
  "language_info": {
   "codemirror_mode": {
    "name": "ipython",
    "version": 3
   },
   "file_extension": ".py",
   "mimetype": "text/x-python",
   "name": "python",
   "nbconvert_exporter": "python",
   "pygments_lexer": "ipython3",
   "version": "3.9.6"
  }
 },
 "nbformat": 4,
 "nbformat_minor": 5
}
