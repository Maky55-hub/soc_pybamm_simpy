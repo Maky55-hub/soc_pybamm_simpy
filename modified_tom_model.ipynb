{
 "cells": [
  {
   "cell_type": "code",
   "execution_count": 39,
   "id": "521b6e81",
   "metadata": {},
   "outputs": [],
   "source": [
    "from typing import List, Dict, Union\n",
    "\n",
    "import simpy\n",
    "import pandas as pd\n",
    "import pybamm\n",
    "import numpy as np\n",
    "\n",
    "pybamm.set_logging_level(\"INFO\")"
   ]
  },
  {
   "cell_type": "code",
   "execution_count": 40,
   "id": "5eafd406",
   "metadata": {},
   "outputs": [],
   "source": [
    "class PybammBattery:\n",
    "\n",
    "    def __init__(self, env, capacity, soc=0, Vmin=2.8, Vmax=4.5):\n",
    "        self.env = env\n",
    "        self.capacity = capacity\n",
    "        self.soc = soc\n",
    "        self.excess_power = 0\n",
    "        self.Vmin = Vmin\n",
    "        self.Vmax = Vmax\n",
    "        self.c_n_min = 0\n",
    "        self.c_n_max = 0\n",
    "        self.c_p_min = 0\n",
    "        self.c_p_max = 0\n",
    "        self.step_solution = None\n",
    "        \n",
    "        # load solver\n",
    "        self.solver = pybamm.CasadiSolver()\n",
    "        \n",
    "        # load model\n",
    "        self.model = pybamm.lithium_ion.SPMe()\n",
    "        \n",
    "        # load parameter values and process model and geometry\n",
    "        self.parameter_values = pybamm.ParameterValues('Chen2020')\n",
    "        \n",
    "        # load values for c_n_min, c_n_max, c_p_min and c_p_max\n",
    "        self.calculate_CN_CP_values()\n",
    "        \n",
    "        geometry = self.model.default_geometry\n",
    "        self.parameter_values['Current function [A]'] = \"[input]\"\n",
    "        self.parameter_values.process_model(self.model)\n",
    "        self.parameter_values.process_geometry(geometry)\n",
    "        \n",
    "        # set mesh\n",
    "        mesh = pybamm.Mesh(geometry, self.model.default_submesh_types, self.model.default_var_pts)\n",
    "\n",
    "        # discretise model\n",
    "        disc = pybamm.Discretisation(mesh, self.model.default_spatial_methods)\n",
    "        disc.process_model(self.model)\n",
    "        \n",
    "        \n",
    "    def calculate_CN_CP_values(self):\n",
    "        esoh_model = pybamm.lithium_ion.ElectrodeSOH()\n",
    "        esoh_sim = pybamm.Simulation(esoh_model, parameter_values=self.parameter_values)\n",
    "        param = self.model.param\n",
    "        \n",
    "        self.parameter_values['Lower voltage cut-off [V]'] = self.Vmin\n",
    "        self.parameter_values['Upper voltage cut-off [V]'] = self.Vmax\n",
    "        \n",
    "        print(f\"Lower voltage cut-off [V]': {self.Vmin:.3f}\")\n",
    "        print(f\"Upper voltage cut-off [V]': {self.Vmax:.3f}\")\n",
    "        \n",
    "        Cn = self.parameter_values.evaluate(param.C_n_init)\n",
    "        Cp = self.parameter_values.evaluate(param.C_p_init)\n",
    "        n_Li_init = self.parameter_values.evaluate(param.n_Li_particles_init)\n",
    "        \n",
    "        esoh_sol = esoh_sim.solve(\n",
    "            [0], \n",
    "            inputs={\"V_min\": self.Vmin, \"V_max\": self.Vmax, \"C_n\": Cn, \"C_p\": Cp, \"n_Li\": n_Li_init}\n",
    "        )\n",
    "        print(f\"Initial negative electrode SOC: {esoh_sol['x_100'].data[0]:.3f}\")\n",
    "        print(f\"Initial positive electrode SOC: {esoh_sol['y_100'].data[0]:.3f}\")\n",
    "        \n",
    "        self.parameter_values.update(\n",
    "            {\n",
    "                \"Initial concentration in negative electrode [mol.m-3]\": esoh_sol[\"x_100\"].data[0],\n",
    "                \"Initial concentration in positive electrode [mol.m-3]\": esoh_sol[\"y_100\"].data[0],\n",
    "            }\n",
    "        )\n",
    "        \n",
    "        self.c_n_min = esoh_sol[\"x_0\"].data[0]\n",
    "        self.c_n_max = esoh_sol[\"x_100\"].data[0]\n",
    "        self.c_p_min = esoh_sol[\"y_0\"].data[0]\n",
    "        self.c_p_max = esoh_sol[\"y_100\"].data[0]\n",
    "        \n",
    "        print(f\"Minimum negative particle concentration: {self.c_n_min:.3f}\")\n",
    "        print(f\"Maximum negative particle concentration: {self.c_n_max:.3f}\")\n",
    "        print(f\"Minimum positive particle concentration: {self.c_p_min:.3f}\")\n",
    "        print(f\"Maximum positive particle concentration: {self.c_p_max:.3f}\")\n",
    "        \n",
    "        \n",
    "    def update(self, current):\n",
    "        if current == 0:\n",
    "            return 0\n",
    "        \n",
    "        if self.step_solution is not None:\n",
    "            print('condition final time: ', not (\n",
    "            self.step_solution.termination == \"final time\"\n",
    "            or \"[experiment]\" in self.step_solution.termination\n",
    "        ))\n",
    "        \n",
    "        input_parameters= {}\n",
    "        input_parameters['Current function [A]'] = current\n",
    "        self.step_solution = self.solver.step(self.step_solution, self.model, dt=120, npts=100, inputs=input_parameters)\n",
    "        \n",
    "        self.calculate_soc()\n",
    "        \n",
    "        \n",
    "    def calculate_soc(self):\n",
    "        c_n_data = self.step_solution['Average negative particle concentration [mol.m-3]'].data\n",
    "        c_p_data = self.step_solution['Average positive particle concentration [mol.m-3]'].data\n",
    "        print('negative electrode: ', self.step_solution['Negative electrode SOC'].data[-1])\n",
    "        print('positive electrode: ', self.step_solution['Positive electrode SOC'].data[-1])\n",
    "        print('')\n",
    "\n",
    "        SoC_from_n = (c_n_data - self.c_n_min) / (self.c_n_max - self.c_n_min)\n",
    "        SoC_from_p = (c_p_data - self.c_p_min) / (self.c_p_max - self.c_p_min)\n",
    "\n",
    "        print('SoC match', np.allclose(SoC_from_n, SoC_from_p))\n",
    "        print('SoC_from_n: ', SoC_from_n[-1])\n",
    "        print('SoC_from_p: ', SoC_from_p[-1])"
   ]
  },
  {
   "cell_type": "code",
   "execution_count": 41,
   "id": "6878088d",
   "metadata": {},
   "outputs": [],
   "source": [
    "def simulate(env: simpy.Environment, battery: PybammBattery, current_delta_list: List[float], records: List[Dict]):\n",
    "    \n",
    "    for current_delta in current_delta_list:\n",
    "        yield env.timeout(1)\n",
    "        battery.update(current_delta)\n",
    "        records.append({\n",
    "            \"power_delta\": current_delta,\n",
    "            \"excess_power\": battery.excess_power,\n",
    "            \"soc\": battery.soc,\n",
    "            \"capacity [A.h]\": battery.capacity\n",
    "        })"
   ]
  },
  {
   "cell_type": "code",
   "execution_count": 42,
   "id": "3f6a5a0e",
   "metadata": {},
   "outputs": [
    {
     "name": "stderr",
     "output_type": "stream",
     "text": [
      "2022-04-28 16:28:53,034 - [INFO] base_battery_model.build_model(834): Start building Single Particle Model with electrolyte\n",
      "2022-04-28 16:28:53,095 - [INFO] base_battery_model.build_model(854): Finish building Single Particle Model with electrolyte\n",
      "2022-04-28 16:28:53,148 - [INFO] parameter_values.process_model(415): Start setting parameters for Electrode-specific SOH model\n",
      "2022-04-28 16:28:53,312 - [INFO] parameter_values.process_model(518): Finish setting parameters for Electrode-specific SOH model\n",
      "2022-04-28 16:28:53,314 - [INFO] discretisation.process_model(137): Start discretising Electrode-specific SOH model\n"
     ]
    },
    {
     "name": "stdout",
     "output_type": "stream",
     "text": [
      "Lower voltage cut-off [V]': 2.800\n",
      "Upper voltage cut-off [V]': 4.500\n"
     ]
    },
    {
     "name": "stderr",
     "output_type": "stream",
     "text": [
      "2022-04-28 16:28:53,359 - [INFO] discretisation.process_model(254): Finish discretising Electrode-specific SOH model\n",
      "2022-04-28 16:28:53,359 - [INFO] base_solver.solve(815): Start solving Electrode-specific SOH model with Algebraic solver (lm)\n",
      "2022-04-28 16:28:53,360 - [INFO] base_solver.set_up(111): Start solver set-up\n",
      "2022-04-28 16:28:53,369 - [INFO] base_solver.set_up(678): Finish solver set-up\n",
      "2022-04-28 16:28:53,372 - [INFO] base_solver.solve(1088): Finish solving Electrode-specific SOH model (success)\n",
      "2022-04-28 16:28:53,373 - [INFO] base_solver.solve(1089): Set-up time: 9.460 ms, Solve time: 2.524 ms (of which integration time: 2.002 ms), Total time: 11.983 ms\n",
      "2022-04-28 16:28:53,379 - [INFO] parameter_values.process_model(415): Start setting parameters for Single Particle Model with electrolyte\n",
      "2022-04-28 16:28:53,456 - [INFO] parameter_values.process_model(518): Finish setting parameters for Single Particle Model with electrolyte\n",
      "2022-04-28 16:28:53,458 - [INFO] discretisation.process_model(137): Start discretising Single Particle Model with electrolyte\n"
     ]
    },
    {
     "name": "stdout",
     "output_type": "stream",
     "text": [
      "Initial negative electrode SOC: 1.152\n",
      "Initial positive electrode SOC: 0.103\n",
      "Minimum negative particle concentration: 0.040\n",
      "Maximum negative particle concentration: 1.152\n",
      "Minimum positive particle concentration: 0.845\n",
      "Maximum positive particle concentration: 0.103\n"
     ]
    },
    {
     "name": "stderr",
     "output_type": "stream",
     "text": [
      "2022-04-28 16:28:53,720 - [INFO] discretisation.process_model(254): Finish discretising Single Particle Model with electrolyte\n",
      "2022-04-28 16:28:53,722 - [INFO] base_solver.set_up(111): Start solver set-up\n",
      "2022-04-28 16:28:53,762 - [INFO] base_solver.set_up(678): Finish solver set-up\n"
     ]
    },
    {
     "name": "stdout",
     "output_type": "stream",
     "text": [
      "negative electrode:  0.003009114795383217\n",
      "positive electrode:  -0.001983335672427702\n",
      "\n",
      "SoC match False\n",
      "SoC_from_n:  89.61994520302302\n",
      "SoC_from_p:  169.78257393207875\n",
      "condition final time:  False\n",
      "negative electrode:  0.002614442193819589\n",
      "positive electrode:  -0.0017199462879647106\n",
      "\n",
      "SoC match False\n",
      "SoC_from_n:  77.86076016646804\n",
      "SoC_from_p:  147.3864246987837\n",
      "condition final time:  False\n",
      "negative electrode:  -0.0031054505824648785\n",
      "positive electrode:  0.00209729116802068\n",
      "\n",
      "SoC match False\n",
      "SoC_from_n:  -92.56221137780692\n",
      "SoC_from_p:  -177.1954482475215\n",
      "condition final time:  False\n",
      "negative electrode:  -0.0015087731550329354\n",
      "positive electrode:  0.0010317297808579758\n",
      "\n",
      "SoC match False\n",
      "SoC_from_n:  -44.989551815230655\n",
      "SoC_from_p:  -86.59015717708377\n",
      "condition final time:  True\n",
      "negative electrode:  -0.0015087731550329354\n",
      "positive electrode:  0.0010317297808579758\n",
      "\n",
      "SoC match False\n",
      "SoC_from_n:  -44.989551815230655\n",
      "SoC_from_p:  -86.59015717708377\n",
      "condition final time:  True\n",
      "negative electrode:  -0.0015087731550329354\n",
      "positive electrode:  0.0010317297808579758\n",
      "\n",
      "SoC match False\n",
      "SoC_from_n:  -44.989551815230655\n",
      "SoC_from_p:  -86.59015717708377\n",
      "   power_delta  excess_power  soc  capacity [A.h]\n",
      "0       -0.520             0    0               5\n",
      "1        0.069             0    0               5\n",
      "2        1.000             0    0               5\n",
      "3       -1.000             0    0               5\n",
      "4       -0.650             0    0               5\n",
      "5        1.000             0    0               5\n"
     ]
    }
   ],
   "source": [
    "# For now let's assume the simple case of one step every second where we first (dis)charge and then implicitly read.\n",
    "# Later we can extend this to a more asynchronous charge/discharge/read pattern with different processes if we want\n",
    "current_delta_list = [-0.52, 0.069, 1, -1, -0.65, 1]\n",
    "records = []  # log of some infos for later analysis\n",
    "\n",
    "env = simpy.Environment()\n",
    "battery = PybammBattery(env, capacity=5)\n",
    "env.process(simulate(env, battery, current_delta_list, records))\n",
    "env.run()\n",
    "\n",
    "result = pd.DataFrame(records)\n",
    "with open(\"result.csv\", \"w\") as f:\n",
    "    f.write(result.to_csv())\n",
    "print(result)"
   ]
  },
  {
   "cell_type": "code",
   "execution_count": null,
   "id": "102e6237",
   "metadata": {},
   "outputs": [],
   "source": [
    "sorted(battery.model.variables.keys())"
   ]
  },
  {
   "cell_type": "code",
   "execution_count": 7,
   "id": "769496b6",
   "metadata": {},
   "outputs": [
    {
     "data": {
      "text/plain": [
       "<pybamm.parameters.lithium_ion_parameters.LithiumIonParameters at 0x1ba5df2d220>"
      ]
     },
     "execution_count": 7,
     "metadata": {},
     "output_type": "execute_result"
    }
   ],
   "source": [
    "battery.model.param"
   ]
  },
  {
   "cell_type": "code",
   "execution_count": null,
   "id": "e17bfe73",
   "metadata": {},
   "outputs": [],
   "source": []
  }
 ],
 "metadata": {
  "kernelspec": {
   "display_name": "Python 3 (ipykernel)",
   "language": "python",
   "name": "python3"
  },
  "language_info": {
   "codemirror_mode": {
    "name": "ipython",
    "version": 3
   },
   "file_extension": ".py",
   "mimetype": "text/x-python",
   "name": "python",
   "nbconvert_exporter": "python",
   "pygments_lexer": "ipython3",
   "version": "3.9.6"
  }
 },
 "nbformat": 4,
 "nbformat_minor": 5
}
