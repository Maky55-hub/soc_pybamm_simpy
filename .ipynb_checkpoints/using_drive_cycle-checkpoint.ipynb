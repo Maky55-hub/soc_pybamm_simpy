{
 "cells": [
  {
   "cell_type": "code",
   "execution_count": 15,
   "id": "d4fac3e4",
   "metadata": {},
   "outputs": [],
   "source": [
    "from typing import List, Dict, Union\n",
    "\n",
    "import simpy\n",
    "import pandas as pd\n",
    "import pybamm\n",
    "\n",
    "pybamm.set_logging_level(\"INFO\")"
   ]
  },
  {
   "cell_type": "code",
   "execution_count": 16,
   "id": "7e1be567",
   "metadata": {},
   "outputs": [],
   "source": [
    "class PybammBattery:\n",
    "\n",
    "    def __init__(self, capacity, soc=0):\n",
    "        self.capacity = capacity\n",
    "        self.soc = soc\n",
    "        self.excess_power = 0\n",
    "        \n",
    "        self.step_solution = None\n",
    "        self.step_solver = pybamm.CasadiSolver()\n",
    "        # load model\n",
    "        self.model = pybamm.lithium_ion.SPMe()\n",
    "        # create geometry\n",
    "        geometry = self.model.default_geometry\n",
    "        # load parameter values and process model and geometry\n",
    "        param = self.model.default_parameter_values\n",
    "        param['Current function [A]'] = '[input]'\n",
    "        param.process_model(self.model)\n",
    "        param.process_geometry(geometry)\n",
    "        # cerate mesh\n",
    "        mesh = pybamm.Mesh(geometry, self.model.default_submesh_types, self.model.default_var_pts)\n",
    "        # discretise model\n",
    "        disc = pybamm.Discretisation(mesh, self.model.default_spatial_methods)\n",
    "        disc.process_model(self.model)\n",
    "\n",
    "    def update(self, current):\n",
    "        if current == 0:\n",
    "            return 0;\n",
    "        \n",
    "        dt = 60\n",
    "        input_parameters = {}\n",
    "        input_parameters['Current function [A]'] = current\n",
    "        self.step_solution = self.step_solver.step(self.step_solution, self.model, dt=dt, npts=2, inputs=input_parameters)"
   ]
  },
  {
   "cell_type": "code",
   "execution_count": 17,
   "id": "5e430ded",
   "metadata": {},
   "outputs": [],
   "source": [
    "def simulate(battery: PybammBattery, current_list: List[float], records: List[Dict]):\n",
    "    \n",
    "    for current_delta in current_list:\n",
    "        battery.update(current_delta)\n",
    "        records.append({\n",
    "            \"current_delta\": current_delta,\n",
    "            \"excess_power\": battery.excess_power,\n",
    "            \"soc\": battery.soc,\n",
    "            \"capacity [A.h]\": battery.capacity\n",
    "        })"
   ]
  },
  {
   "cell_type": "code",
   "execution_count": 18,
   "id": "cefccf9f",
   "metadata": {},
   "outputs": [
    {
     "name": "stderr",
     "output_type": "stream",
     "text": [
      "2022-04-06 11:23:07,926 - [INFO] base_battery_model.build_model(834): Start building Single Particle Model with electrolyte\n",
      "2022-04-06 11:23:07,996 - [INFO] base_battery_model.build_model(854): Finish building Single Particle Model with electrolyte\n",
      "2022-04-06 11:23:08,015 - [INFO] parameter_values.process_model(415): Start setting parameters for Single Particle Model with electrolyte\n",
      "2022-04-06 11:23:08,110 - [INFO] parameter_values.process_model(518): Finish setting parameters for Single Particle Model with electrolyte\n",
      "2022-04-06 11:23:08,111 - [INFO] discretisation.process_model(137): Start discretising Single Particle Model with electrolyte\n",
      "2022-04-06 11:23:08,359 - [INFO] discretisation.process_model(254): Finish discretising Single Particle Model with electrolyte\n",
      "2022-04-06 11:23:08,362 - [INFO] base_solver.set_up(111): Start solver set-up\n",
      "2022-04-06 11:23:08,404 - [INFO] base_solver.set_up(678): Finish solver set-up\n"
     ]
    },
    {
     "name": "stdout",
     "output_type": "stream",
     "text": [
      "   power_delta  excess_power  soc  capacity [A.h]\n",
      "0            1             0    0               5\n",
      "1           -3             0    0               5\n",
      "2            2             0    0               5\n",
      "3            3             0    0               5\n",
      "4            4             0    0               5\n",
      "5           -2             0    0               5\n"
     ]
    }
   ],
   "source": [
    "# For now let's assume the simple case of one step every second where we first (dis)charge and then implicitly read.\n",
    "# Later we can extend this to a more asynchronous charge/discharge/read pattern with different processes if we want\n",
    "power_delta_list = [1, -3, 2, 3, 4, -2]\n",
    "records = []  # log of some infos for later analysis\n",
    "\n",
    "battery = PybammBattery(capacity=5)\n",
    "simulate(battery, power_delta_list, records)\n",
    "\n",
    "result = pd.DataFrame(records)\n",
    "with open(\"result.csv\", \"w\") as f:\n",
    "    f.write(result.to_csv())\n",
    "print(result)"
   ]
  },
  {
   "cell_type": "code",
   "execution_count": null,
   "id": "4f721750",
   "metadata": {},
   "outputs": [],
   "source": []
  }
 ],
 "metadata": {
  "kernelspec": {
   "display_name": "Python 3 (ipykernel)",
   "language": "python",
   "name": "python3"
  },
  "language_info": {
   "codemirror_mode": {
    "name": "ipython",
    "version": 3
   },
   "file_extension": ".py",
   "mimetype": "text/x-python",
   "name": "python",
   "nbconvert_exporter": "python",
   "pygments_lexer": "ipython3",
   "version": "3.9.6"
  }
 },
 "nbformat": 4,
 "nbformat_minor": 5
}
