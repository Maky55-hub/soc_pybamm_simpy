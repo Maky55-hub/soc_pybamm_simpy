{
 "cells": [
  {
   "cell_type": "code",
   "execution_count": 21,
   "id": "521b6e81",
   "metadata": {},
   "outputs": [],
   "source": [
    "from typing import List, Dict, Union\n",
    "\n",
    "import simpy\n",
    "import pandas as pd\n",
    "import pybamm\n",
    "import numpy as np\n",
    "\n",
    "pybamm.set_logging_level(\"INFO\")"
   ]
  },
  {
   "cell_type": "code",
   "execution_count": 22,
   "id": "5eafd406",
   "metadata": {},
   "outputs": [],
   "source": [
    "class PybammBattery:\n",
    "\n",
    "    def __init__(self, env, capacity, soc=0, Vmin=3, Vmax=4.2):\n",
    "        self.env = env\n",
    "        self.capacity = capacity\n",
    "        self.soc = soc\n",
    "        self.excess_power = 0\n",
    "        self.Vmin = Vmin\n",
    "        self.Vmax = Vmax\n",
    "        self.c_n_min = 0\n",
    "        self.c_n_max = 0\n",
    "        self.c_p_min = 0\n",
    "        self.c_p_max = 0\n",
    "        self.step_solution = None\n",
    "        \n",
    "        # load solver\n",
    "        self.solver = pybamm.CasadiSolver()\n",
    "        \n",
    "        # load model\n",
    "        self.model = pybamm.lithium_ion.SPMe()\n",
    "        \n",
    "        # load parameter values and process model and geometry\n",
    "        self.parameter_values = pybamm.ParameterValues('Chen2020')\n",
    "        \n",
    "        # load values for c_n_min, c_n_max, c_p_min and c_p_max\n",
    "        self.calculate_CN_CP_values()\n",
    "        \n",
    "        geometry = self.model.default_geometry\n",
    "        self.parameter_values['Current function [A]'] = \"[input]\"\n",
    "        self.parameter_values.process_model(self.model)\n",
    "        self.parameter_values.process_geometry(geometry)\n",
    "        \n",
    "        # set mesh\n",
    "        mesh = pybamm.Mesh(geometry, self.model.default_submesh_types, self.model.default_var_pts)\n",
    "\n",
    "        # discretise model\n",
    "        disc = pybamm.Discretisation(mesh, self.model.default_spatial_methods)\n",
    "        disc.process_model(self.model)\n",
    "        \n",
    "        \n",
    "    def calculate_CN_CP_values(self):\n",
    "        esoh_model = pybamm.lithium_ion.ElectrodeSOH()\n",
    "        esoh_sim = pybamm.Simulation(esoh_model, parameter_values=self.parameter_values)\n",
    "        param = self.model.param\n",
    "        \n",
    "        self.parameter_values['Lower voltage cut-off [V]'] = self.Vmin\n",
    "        self.parameter_values['Upper voltage cut-off [V]'] = self.Vmax\n",
    "        \n",
    "        print(f\"Lower voltage cut-off [V]': {self.Vmin:.3f}\")\n",
    "        print(f\"Upper voltage cut-off [V]': {self.Vmax:.3f}\")\n",
    "        \n",
    "        Cn = self.parameter_values.evaluate(param.C_n_init)\n",
    "        Cp = self.parameter_values.evaluate(param.C_p_init)\n",
    "        n_Li_init = self.parameter_values.evaluate(param.n_Li_particles_init)\n",
    "        \n",
    "        esoh_sol = esoh_sim.solve(\n",
    "            [0], \n",
    "            inputs={\"V_min\": self.Vmin, \"V_max\": self.Vmax, \"C_n\": Cn, \"C_p\": Cp, \"n_Li\": n_Li_init}\n",
    "        )\n",
    "        print(f\"Initial negative electrode SOC: {esoh_sol['x_100'].data[0]:.3f}\")\n",
    "        print(f\"Initial positive electrode SOC: {esoh_sol['y_100'].data[0]:.3f}\")\n",
    "        \n",
    "        # Update parameter values with initial conditions\n",
    "        c_n_max = self.parameter_values.evaluate(param.c_n_max)\n",
    "        c_p_max = self.parameter_values.evaluate(param.c_p_max)\n",
    "        \n",
    "        print('c_n_max: ', c_n_max)\n",
    "        print('esoh_sol[x_100]: ', esoh_sol[\"x_100\"].data[0])\n",
    "        \n",
    "        self.parameter_values.update(\n",
    "            {\n",
    "                \"Initial concentration in negative electrode [mol.m-3]\": esoh_sol[\"x_100\"].data[0] * c_n_max,\n",
    "                \"Initial concentration in positive electrode [mol.m-3]\": esoh_sol[\"y_100\"].data[0] * c_p_max,\n",
    "            }\n",
    "        )\n",
    "        \n",
    "        self.c_n_min = esoh_sol[\"x_0\"].data[0] * c_n_max\n",
    "        self.c_n_max = esoh_sol[\"x_100\"].data[0] * c_n_max\n",
    "        self.c_p_min = esoh_sol[\"y_0\"].data[0] * c_p_max\n",
    "        self.c_p_max = esoh_sol[\"y_100\"].data[0] * c_p_max\n",
    "        \n",
    "        print(f\"Minimum negative particle concentration: {self.c_n_min:.3f}\")\n",
    "        print(f\"Maximum negative particle concentration: {self.c_n_max:.3f}\")\n",
    "        print(f\"Minimum positive particle concentration: {self.c_p_min:.3f}\")\n",
    "        print(f\"Maximum positive particle concentration: {self.c_p_max:.3f}\")\n",
    "        \n",
    "        \n",
    "    def update(self, current):\n",
    "        if current == 0:\n",
    "            return 0\n",
    "        \n",
    "        if self.step_solution is not None:\n",
    "            print('condition final time: ', not (\n",
    "            self.step_solution.termination == \"final time\"\n",
    "            or \"[experiment]\" in self.step_solution.termination\n",
    "        ))\n",
    "        \n",
    "        input_parameters= {}\n",
    "        input_parameters['Current function [A]'] = current\n",
    "        self.step_solution = self.solver.step(self.step_solution, self.model, dt=120, npts=100, inputs=input_parameters)\n",
    "        \n",
    "        self.calculate_soc()\n",
    "        \n",
    "        \n",
    "    def calculate_soc(self):\n",
    "        c_n_data = self.step_solution['Average negative particle concentration [mol.m-3]'].data\n",
    "        c_p_data = self.step_solution['Average positive particle concentration [mol.m-3]'].data\n",
    "        print('negative electrode: ', self.step_solution['Negative electrode SOC'].data[-1])\n",
    "        print('positive electrode: ', self.step_solution['Positive electrode SOC'].data[-1])\n",
    "        print('')\n",
    "\n",
    "        SoC_from_n = (c_n_data - self.c_n_min) / (self.c_n_max - self.c_n_min)\n",
    "        SoC_from_p = (c_p_data - self.c_p_min) / (self.c_p_max - self.c_p_min)\n",
    "\n",
    "        print('SoC match', np.allclose(SoC_from_n, SoC_from_p))\n",
    "        print('SoC_from_n: ', SoC_from_n[-1])\n",
    "        print('SoC_from_p: ', SoC_from_p[-1])"
   ]
  },
  {
   "cell_type": "code",
   "execution_count": 23,
   "id": "6878088d",
   "metadata": {},
   "outputs": [],
   "source": [
    "def simulate(env: simpy.Environment, battery: PybammBattery, current_delta_list: List[float], records: List[Dict]):\n",
    "    \n",
    "    for current_delta in current_delta_list:\n",
    "        yield env.timeout(1)\n",
    "        battery.update(current_delta)\n",
    "        records.append({\n",
    "            \"power_delta\": current_delta,\n",
    "            \"excess_power\": battery.excess_power,\n",
    "            \"soc\": battery.soc,\n",
    "            \"capacity [A.h]\": battery.capacity\n",
    "        })"
   ]
  },
  {
   "cell_type": "code",
   "execution_count": 24,
   "id": "3f6a5a0e",
   "metadata": {},
   "outputs": [
    {
     "name": "stderr",
     "output_type": "stream",
     "text": [
      "2022-04-28 16:01:45,260 - [INFO] base_battery_model.build_model(834): Start building Single Particle Model with electrolyte\n",
      "2022-04-28 16:01:45,325 - [INFO] base_battery_model.build_model(854): Finish building Single Particle Model with electrolyte\n",
      "2022-04-28 16:01:45,377 - [INFO] parameter_values.process_model(415): Start setting parameters for Electrode-specific SOH model\n",
      "2022-04-28 16:01:45,423 - [INFO] parameter_values.process_model(518): Finish setting parameters for Electrode-specific SOH model\n",
      "2022-04-28 16:01:45,424 - [INFO] discretisation.process_model(137): Start discretising Electrode-specific SOH model\n",
      "2022-04-28 16:01:45,474 - [INFO] discretisation.process_model(254): Finish discretising Electrode-specific SOH model\n",
      "2022-04-28 16:01:45,475 - [INFO] base_solver.solve(815): Start solving Electrode-specific SOH model with Algebraic solver (lm)\n",
      "2022-04-28 16:01:45,477 - [INFO] base_solver.set_up(111): Start solver set-up\n",
      "2022-04-28 16:01:45,489 - [INFO] base_solver.set_up(678): Finish solver set-up\n",
      "2022-04-28 16:01:45,495 - [INFO] base_solver.solve(1088): Finish solving Electrode-specific SOH model (success)\n",
      "2022-04-28 16:01:45,496 - [INFO] base_solver.solve(1089): Set-up time: 13.329 ms, Solve time: 4.895 ms (of which integration time: 4.421 ms), Total time: 18.223 ms\n",
      "2022-04-28 16:01:45,500 - [INFO] parameter_values.process_model(415): Start setting parameters for Single Particle Model with electrolyte\n"
     ]
    },
    {
     "name": "stdout",
     "output_type": "stream",
     "text": [
      "Lower voltage cut-off [V]': 2.800\n",
      "Upper voltage cut-off [V]': 4.500\n",
      "Initial negative electrode SOC: 1.437\n",
      "Initial positive electrode SOC: 0.227\n",
      "c_n_max:  24983.2619938437\n",
      "esoh_sol[x_100]:  1.4368298873213612\n",
      "Minimum negative particle concentration: 4370.064\n",
      "Maximum negative particle concentration: 35896.698\n",
      "Minimum positive particle concentration: 49470.610\n",
      "Maximum positive particle concentration: 11638.650\n"
     ]
    },
    {
     "name": "stderr",
     "output_type": "stream",
     "text": [
      "2022-04-28 16:01:45,599 - [INFO] parameter_values.process_model(518): Finish setting parameters for Single Particle Model with electrolyte\n",
      "2022-04-28 16:01:45,600 - [INFO] discretisation.process_model(137): Start discretising Single Particle Model with electrolyte\n"
     ]
    },
    {
     "ename": "ModelError",
     "evalue": "initial condition is outside of variable bounds (0, 1) for variable 'X-averaged negative particle concentration'.",
     "output_type": "error",
     "traceback": [
      "\u001b[1;31m---------------------------------------------------------------------------\u001b[0m",
      "\u001b[1;31mModelError\u001b[0m                                Traceback (most recent call last)",
      "Input \u001b[1;32mIn [24]\u001b[0m, in \u001b[0;36m<cell line: 7>\u001b[1;34m()\u001b[0m\n\u001b[0;32m      4\u001b[0m records \u001b[38;5;241m=\u001b[39m []  \u001b[38;5;66;03m# log of some infos for later analysis\u001b[39;00m\n\u001b[0;32m      6\u001b[0m env \u001b[38;5;241m=\u001b[39m simpy\u001b[38;5;241m.\u001b[39mEnvironment()\n\u001b[1;32m----> 7\u001b[0m battery \u001b[38;5;241m=\u001b[39m \u001b[43mPybammBattery\u001b[49m\u001b[43m(\u001b[49m\u001b[43menv\u001b[49m\u001b[43m,\u001b[49m\u001b[43m \u001b[49m\u001b[43mcapacity\u001b[49m\u001b[38;5;241;43m=\u001b[39;49m\u001b[38;5;241;43m5\u001b[39;49m\u001b[43m)\u001b[49m\n\u001b[0;32m      8\u001b[0m env\u001b[38;5;241m.\u001b[39mprocess(simulate(env, battery, current_delta_list, records))\n\u001b[0;32m      9\u001b[0m env\u001b[38;5;241m.\u001b[39mrun()\n",
      "Input \u001b[1;32mIn [22]\u001b[0m, in \u001b[0;36mPybammBattery.__init__\u001b[1;34m(self, env, capacity, soc, Vmin, Vmax)\u001b[0m\n\u001b[0;32m     36\u001b[0m \u001b[38;5;66;03m# discretise model\u001b[39;00m\n\u001b[0;32m     37\u001b[0m disc \u001b[38;5;241m=\u001b[39m pybamm\u001b[38;5;241m.\u001b[39mDiscretisation(mesh, \u001b[38;5;28mself\u001b[39m\u001b[38;5;241m.\u001b[39mmodel\u001b[38;5;241m.\u001b[39mdefault_spatial_methods)\n\u001b[1;32m---> 38\u001b[0m \u001b[43mdisc\u001b[49m\u001b[38;5;241;43m.\u001b[39;49m\u001b[43mprocess_model\u001b[49m\u001b[43m(\u001b[49m\u001b[38;5;28;43mself\u001b[39;49m\u001b[38;5;241;43m.\u001b[39;49m\u001b[43mmodel\u001b[49m\u001b[43m)\u001b[49m\n",
      "File \u001b[1;32m~\\.virtualenvs\\soc_pybamm_simpy-ra8kyHoG\\lib\\site-packages\\pybamm\\discretisations\\discretisation.py:252\u001b[0m, in \u001b[0;36mDiscretisation.process_model\u001b[1;34m(self, model, inplace, check_model)\u001b[0m\n\u001b[0;32m    250\u001b[0m \u001b[38;5;28;01mif\u001b[39;00m check_model:\n\u001b[0;32m    251\u001b[0m     pybamm\u001b[38;5;241m.\u001b[39mlogger\u001b[38;5;241m.\u001b[39mverbose(\u001b[38;5;124m\"\u001b[39m\u001b[38;5;124mPerforming model checks for \u001b[39m\u001b[38;5;132;01m{}\u001b[39;00m\u001b[38;5;124m\"\u001b[39m\u001b[38;5;241m.\u001b[39mformat(model\u001b[38;5;241m.\u001b[39mname))\n\u001b[1;32m--> 252\u001b[0m     \u001b[38;5;28;43mself\u001b[39;49m\u001b[38;5;241;43m.\u001b[39;49m\u001b[43mcheck_model\u001b[49m\u001b[43m(\u001b[49m\u001b[43mmodel_disc\u001b[49m\u001b[43m)\u001b[49m\n\u001b[0;32m    254\u001b[0m pybamm\u001b[38;5;241m.\u001b[39mlogger\u001b[38;5;241m.\u001b[39minfo(\u001b[38;5;124m\"\u001b[39m\u001b[38;5;124mFinish discretising \u001b[39m\u001b[38;5;132;01m{}\u001b[39;00m\u001b[38;5;124m\"\u001b[39m\u001b[38;5;241m.\u001b[39mformat(model\u001b[38;5;241m.\u001b[39mname))\n\u001b[0;32m    256\u001b[0m \u001b[38;5;66;03m# Record that the model has been discretised\u001b[39;00m\n",
      "File \u001b[1;32m~\\.virtualenvs\\soc_pybamm_simpy-ra8kyHoG\\lib\\site-packages\\pybamm\\discretisations\\discretisation.py:1120\u001b[0m, in \u001b[0;36mDiscretisation.check_model\u001b[1;34m(self, model)\u001b[0m\n\u001b[0;32m   1118\u001b[0m \u001b[38;5;28;01mdef\u001b[39;00m \u001b[38;5;21mcheck_model\u001b[39m(\u001b[38;5;28mself\u001b[39m, model):\n\u001b[0;32m   1119\u001b[0m     \u001b[38;5;124;03m\"\"\"Perform some basic checks to make sure the discretised model makes sense.\"\"\"\u001b[39;00m\n\u001b[1;32m-> 1120\u001b[0m     \u001b[38;5;28;43mself\u001b[39;49m\u001b[38;5;241;43m.\u001b[39;49m\u001b[43mcheck_initial_conditions\u001b[49m\u001b[43m(\u001b[49m\u001b[43mmodel\u001b[49m\u001b[43m)\u001b[49m\n\u001b[0;32m   1121\u001b[0m     \u001b[38;5;28mself\u001b[39m\u001b[38;5;241m.\u001b[39mcheck_variables(model)\n",
      "File \u001b[1;32m~\\.virtualenvs\\soc_pybamm_simpy-ra8kyHoG\\lib\\site-packages\\pybamm\\discretisations\\discretisation.py:1141\u001b[0m, in \u001b[0;36mDiscretisation.check_initial_conditions\u001b[1;34m(self, model)\u001b[0m\n\u001b[0;32m   1137\u001b[0m     bounds \u001b[38;5;241m=\u001b[39m var\u001b[38;5;241m.\u001b[39mbounds\n\u001b[0;32m   1138\u001b[0m     \u001b[38;5;28;01mif\u001b[39;00m \u001b[38;5;129;01mnot\u001b[39;00m eqn\u001b[38;5;241m.\u001b[39mhas_symbol_of_classes(pybamm\u001b[38;5;241m.\u001b[39mInputParameter) \u001b[38;5;129;01mand\u001b[39;00m \u001b[38;5;129;01mnot\u001b[39;00m (\n\u001b[0;32m   1139\u001b[0m         \u001b[38;5;28mall\u001b[39m(bounds[\u001b[38;5;241m0\u001b[39m] \u001b[38;5;241m<\u001b[39m\u001b[38;5;241m=\u001b[39m ic_eval) \u001b[38;5;129;01mand\u001b[39;00m \u001b[38;5;28mall\u001b[39m(ic_eval \u001b[38;5;241m<\u001b[39m\u001b[38;5;241m=\u001b[39m bounds[\u001b[38;5;241m1\u001b[39m])\n\u001b[0;32m   1140\u001b[0m     ):\n\u001b[1;32m-> 1141\u001b[0m         \u001b[38;5;28;01mraise\u001b[39;00m pybamm\u001b[38;5;241m.\u001b[39mModelError(\n\u001b[0;32m   1142\u001b[0m             \u001b[38;5;124m\"\u001b[39m\u001b[38;5;124minitial condition is outside of variable bounds \u001b[39m\u001b[38;5;124m\"\u001b[39m\n\u001b[0;32m   1143\u001b[0m             \u001b[38;5;124m\"\u001b[39m\u001b[38;5;132;01m{}\u001b[39;00m\u001b[38;5;124m for variable \u001b[39m\u001b[38;5;124m'\u001b[39m\u001b[38;5;132;01m{}\u001b[39;00m\u001b[38;5;124m'\u001b[39m\u001b[38;5;124m.\u001b[39m\u001b[38;5;124m\"\u001b[39m\u001b[38;5;241m.\u001b[39mformat(bounds, var)\n\u001b[0;32m   1144\u001b[0m         )\n\u001b[0;32m   1146\u001b[0m \u001b[38;5;66;03m# Check initial conditions and model equations have the same shape\u001b[39;00m\n\u001b[0;32m   1147\u001b[0m \u001b[38;5;66;03m# Individual\u001b[39;00m\n\u001b[0;32m   1148\u001b[0m \u001b[38;5;28;01mfor\u001b[39;00m var \u001b[38;5;129;01min\u001b[39;00m model\u001b[38;5;241m.\u001b[39mrhs\u001b[38;5;241m.\u001b[39mkeys():\n",
      "\u001b[1;31mModelError\u001b[0m: initial condition is outside of variable bounds (0, 1) for variable 'X-averaged negative particle concentration'."
     ]
    }
   ],
   "source": [
    "# For now let's assume the simple case of one step every second where we first (dis)charge and then implicitly read.\n",
    "# Later we can extend this to a more asynchronous charge/discharge/read pattern with different processes if we want\n",
    "current_delta_list = [1, -0.52, 0.069, 1, -1, -0.65]\n",
    "records = []  # log of some infos for later analysis\n",
    "\n",
    "env = simpy.Environment()\n",
    "battery = PybammBattery(env, capacity=5)\n",
    "env.process(simulate(env, battery, current_delta_list, records))\n",
    "env.run()\n",
    "\n",
    "result = pd.DataFrame(records)\n",
    "with open(\"result.csv\", \"w\") as f:\n",
    "    f.write(result.to_csv())\n",
    "print(result)"
   ]
  },
  {
   "cell_type": "code",
   "execution_count": null,
   "id": "102e6237",
   "metadata": {},
   "outputs": [],
   "source": [
    "sorted(battery.model.variables.keys())"
   ]
  },
  {
   "cell_type": "code",
   "execution_count": 7,
   "id": "769496b6",
   "metadata": {},
   "outputs": [
    {
     "data": {
      "text/plain": [
       "<pybamm.parameters.lithium_ion_parameters.LithiumIonParameters at 0x1ba5df2d220>"
      ]
     },
     "execution_count": 7,
     "metadata": {},
     "output_type": "execute_result"
    }
   ],
   "source": [
    "battery.model.param"
   ]
  },
  {
   "cell_type": "code",
   "execution_count": null,
   "id": "8775c86a",
   "metadata": {},
   "outputs": [],
   "source": []
  }
 ],
 "metadata": {
  "kernelspec": {
   "display_name": "Python 3 (ipykernel)",
   "language": "python",
   "name": "python3"
  },
  "language_info": {
   "codemirror_mode": {
    "name": "ipython",
    "version": 3
   },
   "file_extension": ".py",
   "mimetype": "text/x-python",
   "name": "python",
   "nbconvert_exporter": "python",
   "pygments_lexer": "ipython3",
   "version": "3.9.6"
  }
 },
 "nbformat": 4,
 "nbformat_minor": 5
}
