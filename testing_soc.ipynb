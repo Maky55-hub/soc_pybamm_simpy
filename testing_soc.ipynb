{
 "cells": [
  {
   "cell_type": "code",
   "execution_count": 10,
   "id": "76f0018c",
   "metadata": {},
   "outputs": [],
   "source": [
    "from typing import List, Dict, Union\n",
    "\n",
    "import simpy\n",
    "import pandas as pd\n",
    "import pybamm\n",
    "\n",
    "pybamm.set_logging_level(\"NOTICE\")"
   ]
  },
  {
   "cell_type": "code",
   "execution_count": 11,
   "id": "5f345fd5",
   "metadata": {},
   "outputs": [],
   "source": [
    "class SimpleBattery:\n",
    "\n",
    "    def __init__(self, capacity, soc=0):\n",
    "        self.capacity = capacity\n",
    "        self.soc = soc\n",
    "\n",
    "    def update(self, energy):\n",
    "        self.soc += energy\n",
    "        excess_energy = 0\n",
    "\n",
    "        if self.soc < 0:\n",
    "            excess_energy = self.soc\n",
    "            self.soc = 0\n",
    "        elif self.soc > self.capacity:\n",
    "            excess_energy = self.soc - self.capacity\n",
    "            self.soc = self.capacity\n",
    "\n",
    "        return excess_energy"
   ]
  },
  {
   "cell_type": "code",
   "execution_count": 12,
   "id": "eb1b642d",
   "metadata": {},
   "outputs": [],
   "source": [
    "class PybammBattery:\n",
    "\n",
    "    def __init__(self, env, capacity, soc=0):\n",
    "        \"\"\"\n",
    "        'Nominal cell capacity [A.h]' is set twice the capacity provided, so that we can easily calculate the excess power.\n",
    "        Otherwise the excess energy cannot be calculated since the battery won't charge pass the capacity.\n",
    "        \"\"\"\n",
    "        self.env = env\n",
    "        self.capacity = capacity\n",
    "        self.soc = soc\n",
    "        self.excess_power = 0\n",
    "        self.experiment = None\n",
    "        \n",
    "        self.last_solution = None\n",
    "\n",
    "        self.parameter_values = pybamm.ParameterValues(chemistry=pybamm.parameter_sets.Chen2020)\n",
    "        self.model = pybamm.lithium_ion.DFN()\n",
    "\n",
    "    def update(self, power):\n",
    "        if power == 0:\n",
    "            return 0;\n",
    "        \n",
    "        self.create_experiment(power)\n",
    "\n",
    "        sim = pybamm.Simulation(self.model, parameter_values=self.parameter_values, experiment=self.experiment)\n",
    "        self.last_solution = sim.solve(starting_solution=self.last_solution)\n",
    "        discharge_capacity = self.last_solution['Discharge capacity [A.h]']\n",
    "\n",
    "        self.calculate_state_of_charge(discharge_capacity.entries[-1])\n",
    "    \n",
    "    # Not sure if the logic in this method is right, but what I am trying to do is to calculate the excess power\n",
    "    def calculate_excess_energy(self):\n",
    "        self.excess_power = (self.soc * self.capacity) - self.capacity\n",
    "        \n",
    "    def calculate_state_of_charge(self, current_discharge_or_charge):\n",
    "        self.soc = current_discharge_or_charge;\n",
    "        \n",
    "    def create_experiment(self, power):\n",
    "        # So the power is always in watts. Not sure how to charge the battery with this power.\n",
    "        # Due to this reason the following logic is implemented, which is probably not right\n",
    "        if power > 0:\n",
    "            charge_or_discharge = f'charge at {0.1 * power} W for 15 s'\n",
    "        else:\n",
    "            charge_or_discharge = f'discharge at {-0.1 * power} W for 15 s'\n",
    "            \n",
    "        \n",
    "        self.experiment = pybamm.Experiment([charge_or_discharge])"
   ]
  },
  {
   "cell_type": "code",
   "execution_count": 13,
   "id": "33604455",
   "metadata": {},
   "outputs": [],
   "source": [
    "def simulate(env: simpy.Environment,\n",
    "             battery: Union[SimpleBattery, PybammBattery],\n",
    "             power_delta_list: List[float],\n",
    "             records: List[Dict]):\n",
    "    \n",
    "    for power_delta in power_delta_list:\n",
    "        yield env.timeout(1)\n",
    "        battery.update(power_delta)\n",
    "        records.append({\n",
    "            \"power_delta\": power_delta,\n",
    "            \"excess_power\": battery.excess_power,\n",
    "            \"soc\": battery.soc,\n",
    "            \"capacity [A.h]\": battery.capacity\n",
    "        })"
   ]
  },
  {
   "cell_type": "code",
   "execution_count": 14,
   "id": "45f055f5",
   "metadata": {},
   "outputs": [
    {
     "name": "stderr",
     "output_type": "stream",
     "text": [
      "2022-03-31 10:23:17,322 - [NOTICE] simulation.solve(855): Cycle 1/1 (25.267 ms elapsed) --------------------\n",
      "2022-03-31 10:23:17,322 - [NOTICE] simulation.solve(889): Cycle 1/1, step 1/1: charge at 0.1 W for 15 s\n",
      "2022-03-31 10:23:17,586 - [NOTICE] simulation.solve(1011): Finish experiment simulation, took 290.089 ms\n",
      "2022-03-31 10:23:18,146 - [NOTICE] simulation.solve(855): Cycle 2/2 (25.586 ms elapsed) --------------------\n",
      "2022-03-31 10:23:18,146 - [NOTICE] simulation.solve(889): Cycle 2/2, step 1/1: discharge at 0.30000000000000004 W for 15 s\n",
      "2022-03-31 10:23:18,401 - [NOTICE] simulation.solve(1011): Finish experiment simulation, took 279.995 ms\n",
      "2022-03-31 10:23:18,850 - [NOTICE] simulation.solve(855): Cycle 3/3 (25.603 ms elapsed) --------------------\n",
      "2022-03-31 10:23:18,850 - [NOTICE] simulation.solve(889): Cycle 3/3, step 1/1: charge at 0.2 W for 15 s\n",
      "2022-03-31 10:23:19,104 - [NOTICE] simulation.solve(1011): Finish experiment simulation, took 279.339 ms\n",
      "2022-03-31 10:23:19,552 - [NOTICE] simulation.solve(855): Cycle 4/4 (25.802 ms elapsed) --------------------\n",
      "2022-03-31 10:23:19,552 - [NOTICE] simulation.solve(889): Cycle 4/4, step 1/1: charge at 0.30000000000000004 W for 15 s\n",
      "2022-03-31 10:23:19,798 - [NOTICE] simulation.solve(1011): Finish experiment simulation, took 273.623 ms\n",
      "2022-03-31 10:23:20,372 - [NOTICE] simulation.solve(855): Cycle 5/5 (32.937 ms elapsed) --------------------\n",
      "2022-03-31 10:23:20,372 - [NOTICE] simulation.solve(889): Cycle 5/5, step 1/1: charge at 0.4 W for 15 s\n",
      "2022-03-31 10:23:20,637 - [NOTICE] simulation.solve(1011): Finish experiment simulation, took 303.964 ms\n",
      "2022-03-31 10:23:21,092 - [NOTICE] simulation.solve(855): Cycle 6/6 (25.469 ms elapsed) --------------------\n",
      "2022-03-31 10:23:21,092 - [NOTICE] simulation.solve(889): Cycle 6/6, step 1/1: discharge at 0.2 W for 15 s\n",
      "2022-03-31 10:23:21,362 - [NOTICE] simulation.solve(1011): Finish experiment simulation, took 290.611 ms\n"
     ]
    },
    {
     "name": "stdout",
     "output_type": "stream",
     "text": [
      "   power_delta  excess_power           soc  capacity [A.h]\n",
      "0            1             0 -9.962749e-05               5\n",
      "1           -3             0  1.996090e-04               5\n",
      "2            2             0  3.905016e-07               5\n",
      "3            3             0 -2.982989e-04               5\n",
      "4            4             0 -6.963708e-04               5\n",
      "5           -2             0 -4.969959e-04               5\n"
     ]
    }
   ],
   "source": [
    "# For now let's assume the simple case of one step every second where we first (dis)charge and then implicitly read.\n",
    "# Later we can extend this to a more asynchronous charge/discharge/read pattern with different processes if we want\n",
    "power_delta_list = [1, -3, 2, 3, 4, -2]\n",
    "records = []  # log of some infos for later analysis\n",
    "\n",
    "env = simpy.Environment()\n",
    "battery = PybammBattery(env, capacity=5)\n",
    "env.process(simulate(env, battery, power_delta_list, records))\n",
    "env.run()\n",
    "\n",
    "result = pd.DataFrame(records)\n",
    "with open(\"result.csv\", \"w\") as f:\n",
    "    f.write(result.to_csv())\n",
    "print(result)"
   ]
  },
  {
   "cell_type": "code",
   "execution_count": null,
   "id": "ef491355",
   "metadata": {},
   "outputs": [],
   "source": []
  }
 ],
 "metadata": {
  "kernelspec": {
   "display_name": "Python 3 (ipykernel)",
   "language": "python",
   "name": "python3"
  },
  "language_info": {
   "codemirror_mode": {
    "name": "ipython",
    "version": 3
   },
   "file_extension": ".py",
   "mimetype": "text/x-python",
   "name": "python",
   "nbconvert_exporter": "python",
   "pygments_lexer": "ipython3",
   "version": "3.9.6"
  }
 },
 "nbformat": 4,
 "nbformat_minor": 5
}
